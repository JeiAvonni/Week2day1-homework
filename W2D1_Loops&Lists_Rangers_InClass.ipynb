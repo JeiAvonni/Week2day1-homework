{
 "cells": [
  {
   "cell_type": "markdown",
   "metadata": {},
   "source": [
    "# Functions, Scoping, Data Collections 1 & List Comprehensions"
   ]
  },
  {
   "cell_type": "markdown",
   "metadata": {},
   "source": [
    "## Tasks Today:\n",
    "\n",
    "<i>Monday Additions (for loops)</i>\n",
    "\n",
    "1) For Loops <br>\n",
    " &nbsp;&nbsp;&nbsp;&nbsp; a) Using 'in' keyword <br>\n",
    " &nbsp;&nbsp;&nbsp;&nbsp; b) Continue Statement <br>\n",
    " &nbsp;&nbsp;&nbsp;&nbsp; c) Break Statement <br>\n",
    " &nbsp;&nbsp;&nbsp;&nbsp; d) Pass Statement <br>\n",
    " &nbsp;&nbsp;&nbsp;&nbsp; e) Double For Loops <br>\n",
    "2) While Loops <br>\n",
    " &nbsp;&nbsp;&nbsp;&nbsp; a) Looping 'While True' <br>\n",
    " &nbsp;&nbsp;&nbsp;&nbsp; b) While and For Loops Used Together <br>\n",
    " \n",
    "3) Lists <br>\n",
    " &nbsp;&nbsp;&nbsp;&nbsp; a) Declaring Lists <br>\n",
    " &nbsp;&nbsp;&nbsp;&nbsp; b) Indexing a List <br>\n",
    " &nbsp;&nbsp;&nbsp;&nbsp; c) .append() <br>\n",
    " &nbsp;&nbsp;&nbsp;&nbsp; d) .insert() <br>\n",
    " &nbsp;&nbsp;&nbsp;&nbsp; e) .pop() <br>\n",
    " &nbsp;&nbsp;&nbsp;&nbsp; f) .remove() <br>\n",
    " &nbsp;&nbsp;&nbsp;&nbsp; g) del() <br>\n",
    " &nbsp;&nbsp;&nbsp;&nbsp; h) Concatenating Two Lists <br>\n",
    " &nbsp;&nbsp;&nbsp;&nbsp; i) Lists Within Lists <br>\n",
    " &nbsp;&nbsp;&nbsp;&nbsp; j) Looping Through Lists <br>\n",
    "4) Working With Lists <br>\n",
    " &nbsp;&nbsp;&nbsp;&nbsp; a) min() <br>\n",
    " &nbsp;&nbsp;&nbsp;&nbsp; b) max() <br>\n",
    " &nbsp;&nbsp;&nbsp;&nbsp; c) sum() <br>\n",
    " &nbsp;&nbsp;&nbsp;&nbsp; d) sort() <br>\n",
    " &nbsp;&nbsp;&nbsp;&nbsp; e) Copying a List <br>\n",
    " &nbsp;&nbsp;&nbsp;&nbsp; f) 'in' keyword <br>\n",
    " &nbsp;&nbsp;&nbsp;&nbsp; g) 'not in' keyword <br>\n",
    " &nbsp;&nbsp;&nbsp;&nbsp; i) Checking an Empty List <br>\n",
    " &nbsp;&nbsp;&nbsp;&nbsp; j) Removing Instances with a Loop <br> \n",
    "5) List Comprehensions <br>\n",
    "6) Tuples <br>\n",
    " &nbsp;&nbsp;&nbsp;&nbsp; a) sorted() <br>\n"
   ]
  },
  {
   "cell_type": "markdown",
   "metadata": {},
   "source": [
    "### For Loops"
   ]
  },
  {
   "cell_type": "code",
   "execution_count": 98,
   "metadata": {},
   "outputs": [
    {
     "name": "stdout",
     "output_type": "stream",
     "text": [
      "15\n",
      "J\n",
      "e\n",
      "i\n",
      "'\n",
      "A\n",
      "v\n",
      "o\n",
      "n\n",
      "n\n",
      "i\n",
      " \n",
      "G\n",
      "a\n",
      "g\n",
      "e\n"
     ]
    }
   ],
   "source": [
    "# for keyword, counter/iterator variable, in keyword, object\n",
    "name = \"Jei'Avonni Gage\"\n",
    "\n",
    "# for keyword, iterator variable, in keyword, the thing we're looping through\n",
    "# for letter in name:\n",
    "#     print(letter)\n",
    "    \n",
    "# number = 123456\n",
    "\n",
    "# for num in number:\n",
    "# print(num)\n",
    "# we cant interate through integers\n",
    "\n",
    "# range()\n",
    "# len()\n",
    "\n",
    "print(len(name))\n",
    "\n",
    "# looping by index\n",
    "#  for keyword, iterator variable, in keyword range, in range (len(object))\n",
    "for i in range(len(name)):\n",
    "    print(name[i])\n",
    "\n",
    "# print(name[0])\n"
   ]
  },
  {
   "cell_type": "markdown",
   "metadata": {},
   "source": [
    "##### Using 'in' keyword"
   ]
  },
  {
   "cell_type": "code",
   "execution_count": 6,
   "metadata": {},
   "outputs": [
    {
     "name": "stdout",
     "output_type": "stream",
     "text": [
      "0\n",
      "1\n",
      "4\n",
      "9\n",
      "16\n",
      "25\n",
      "36\n",
      "49\n",
      "64\n",
      "81\n",
      "100\n",
      "121\n",
      "144\n",
      "169\n",
      "196\n"
     ]
    }
   ],
   "source": [
    "#in is what accesses the items in an iterable\n",
    "for num in range(15):\n",
    "# ** is to sqaure a number\n",
    "    print(num**2)\n"
   ]
  },
  {
   "cell_type": "code",
   "execution_count": 81,
   "metadata": {},
   "outputs": [
    {
     "name": "stdout",
     "output_type": "stream",
     "text": [
      "yay it's here\n"
     ]
    }
   ],
   "source": [
    "name = \"mega san\"\n",
    "if \"g\" in name:\n",
    "    print(\"yay it's here\")\n",
    "else:\n",
    "    print(\"it's not here\")"
   ]
  },
  {
   "cell_type": "code",
   "execution_count": null,
   "metadata": {},
   "outputs": [],
   "source": []
  },
  {
   "cell_type": "markdown",
   "metadata": {},
   "source": [
    "##### Continue Statement"
   ]
  },
  {
   "cell_type": "code",
   "execution_count": 8,
   "metadata": {},
   "outputs": [
    {
     "name": "stdout",
     "output_type": "stream",
     "text": [
      "0\n",
      "1\n",
      "2\n",
      "3\n",
      "4\n",
      "5\n",
      "6\n",
      "7\n",
      "8\n",
      "9\n",
      "10\n",
      "11\n",
      "12\n",
      "13\n",
      "14\n",
      "15\n",
      "16\n",
      "17\n",
      "18\n",
      "19\n",
      "20\n",
      "21\n",
      "22\n",
      "23\n",
      "24\n",
      "25\n",
      "26\n",
      "27\n",
      "1\n",
      "1\n",
      "1\n",
      "1\n",
      "1\n",
      "1\n",
      "1\n",
      "1\n",
      "1\n",
      "1\n",
      "1\n",
      "1\n",
      "1\n",
      "1\n",
      "1\n",
      "1\n",
      "1\n",
      "1\n",
      "1\n",
      "1\n"
     ]
    }
   ],
   "source": [
    "#continue\n",
    "for num in range(28):\n",
    "    print(num)\n",
    "\n",
    "# continue on the next interation\n",
    "for i in range(20):\n",
    "    if 1 == 5 or 1 == 6:\n",
    "        continue\n",
    "    print(1)\n"
   ]
  },
  {
   "cell_type": "markdown",
   "metadata": {},
   "source": [
    "##### Break Statement"
   ]
  },
  {
   "cell_type": "code",
   "execution_count": 10,
   "metadata": {},
   "outputs": [
    {
     "name": "stdout",
     "output_type": "stream",
     "text": [
      "0\n",
      "1\n",
      "2\n",
      "3\n",
      "4\n",
      "5\n",
      "6\n",
      "7\n",
      "8\n",
      "9\n",
      "\n",
      "\n",
      "0\n",
      "1\n",
      "2\n",
      "3\n",
      "4\n",
      "5\n",
      "6\n"
     ]
    }
   ],
   "source": [
    "# Break will break out of current loop\n",
    "#  we use break as part of a condition\n",
    "for num in range(10):\n",
    "    print(num)\n",
    "print(\"\\n\")\n",
    "\n",
    "# usiong the break keyword with condition\n",
    "for num in range(10):\n",
    "    if num == 7:\n",
    "        break\n",
    "    print(num)"
   ]
  },
  {
   "cell_type": "markdown",
   "metadata": {},
   "source": [
    "##### Pass Statement"
   ]
  },
  {
   "cell_type": "code",
   "execution_count": 82,
   "metadata": {},
   "outputs": [
    {
     "ename": "SyntaxError",
     "evalue": "cannot assign to literal (3338619089.py, line 2)",
     "output_type": "error",
     "traceback": [
      "\u001b[1;36m  Cell \u001b[1;32mIn[82], line 2\u001b[1;36m\u001b[0m\n\u001b[1;33m    for 1 in range(2):\u001b[0m\n\u001b[1;37m        ^\u001b[0m\n\u001b[1;31mSyntaxError\u001b[0m\u001b[1;31m:\u001b[0m cannot assign to literal\n"
     ]
    }
   ],
   "source": [
    "# mostly used as a placeholder, and will continue on same iteration\n",
    "for 1 in range(2):\n",
    "    pass\n",
    "    \n",
    "    "
   ]
  },
  {
   "cell_type": "markdown",
   "metadata": {},
   "source": [
    "cool person = \"Yogi Moto\"\n",
    "# loop through cool_person using the three for loops we talked about earlier\n",
    "# loop by value"
   ]
  },
  {
   "cell_type": "markdown",
   "metadata": {},
   "source": [
    "##### Double For Loops"
   ]
  },
  {
   "cell_type": "code",
   "execution_count": 12,
   "metadata": {},
   "outputs": [
    {
     "name": "stdout",
     "output_type": "stream",
     "text": [
      "\n",
      "\n",
      "i=  0 j= 0\n",
      "i=  0 j= 1\n",
      "i=  0 j= 2\n",
      "i=  0 j= 3\n",
      "i=  0 j= 4\n",
      "\n",
      "\n",
      "i=  1 j= 0\n",
      "i=  1 j= 1\n",
      "i=  1 j= 2\n",
      "i=  1 j= 3\n",
      "i=  1 j= 4\n",
      "\n",
      "\n",
      "i=  2 j= 0\n",
      "i=  2 j= 1\n",
      "i=  2 j= 2\n",
      "i=  2 j= 3\n",
      "i=  2 j= 4\n",
      "\n",
      "\n",
      "i=  3 j= 0\n",
      "i=  3 j= 1\n",
      "i=  3 j= 2\n",
      "i=  3 j= 3\n",
      "i=  3 j= 4\n",
      "\n",
      "\n",
      "i=  4 j= 0\n",
      "i=  4 j= 1\n",
      "i=  4 j= 2\n",
      "i=  4 j= 3\n",
      "i=  4 j= 4\n"
     ]
    }
   ],
   "source": [
    "for i in range(5):\n",
    "    print(\"\\n\")\n",
    "    for j in range(5):\n",
    "        print(\"i= \", i, \"j=\",j)"
   ]
  },
  {
   "cell_type": "markdown",
   "metadata": {},
   "source": [
    "name = \"duck\"\n",
    "name2 = \"goose\"\n",
    "\n",
    "for char in name:\n",
    "    print(\"first loop\", char)\n",
    "    for char2 in name:\n",
    "        print(\"second loop\", char2)"
   ]
  },
  {
   "cell_type": "markdown",
   "metadata": {},
   "source": [
    "### While Loops"
   ]
  },
  {
   "cell_type": "code",
   "execution_count": 15,
   "metadata": {},
   "outputs": [
    {
     "name": "stdout",
     "output_type": "stream",
     "text": [
      "1\n",
      "2\n",
      "3\n",
      "4\n",
      "5\n",
      "6\n",
      "7\n",
      "8\n",
      "9\n",
      "10\n",
      "11\n",
      "\n",
      "\n"
     ]
    }
   ],
   "source": [
    "#while keyword, condition statement\n",
    "#while loop will run based on the condition statement\n",
    "\n",
    "counter = 0\n",
    "while counter < 11:\n",
    "\n",
    "    counter +=1\n",
    "    print(counter)\n",
    "\n",
    "print(\"\\n\")\n",
    "\n",
    "num - 0\n",
    "while num > 15:\n",
    "    print(num**2)\n",
    "    num += 1\n",
    "\n",
    "\n",
    "\n",
    "\n",
    "\n"
   ]
  },
  {
   "cell_type": "markdown",
   "metadata": {},
   "source": [
    "##### looping 'While True'"
   ]
  },
  {
   "cell_type": "code",
   "execution_count": 83,
   "metadata": {},
   "outputs": [
    {
     "ename": "SyntaxError",
     "evalue": "invalid syntax (3799099.py, line 5)",
     "output_type": "error",
     "traceback": [
      "\u001b[1;36m  Cell \u001b[1;32mIn[83], line 5\u001b[1;36m\u001b[0m\n\u001b[1;33m    If game over == false:\u001b[0m\n\u001b[1;37m       ^\u001b[0m\n\u001b[1;31mSyntaxError\u001b[0m\u001b[1;31m:\u001b[0m invalid syntax\n"
     ]
    }
   ],
   "source": [
    "# true as a condition for while loop to run\n",
    "game_over = False\n",
    "while true:\n",
    "    print(\"infinite loop\")\n",
    "    If game over == false:\n",
    "        break"
   ]
  },
  {
   "cell_type": "markdown",
   "metadata": {},
   "source": [
    "# while loop with while True with user input\n",
    "# the loop will break when the user enters quit\n",
    "while true:\n",
    "    name = Input(\"What is your name\")\n",
    "    if name == \"quit\":\n",
    "    print ( \"bye bye\")\n",
    "    break\n",
    "    print(name)\n",
    "\n",
    "    "
   ]
  },
  {
   "cell_type": "markdown",
   "metadata": {},
   "source": [
    "##### While & For Loops Used Together"
   ]
  },
  {
   "cell_type": "code",
   "execution_count": 21,
   "metadata": {},
   "outputs": [
    {
     "name": "stdout",
     "output_type": "stream",
     "text": [
      "\n",
      " hand stand push ups set 1\n",
      "hand stand push ups rep 1\n",
      "hand stand push ups rep 2\n",
      "hand stand push ups rep 3\n",
      "hand stand push ups rep 4\n",
      "\n",
      " hand stand push ups set 2\n",
      "hand stand push ups rep 1\n",
      "hand stand push ups rep 2\n",
      "hand stand push ups rep 3\n",
      "hand stand push ups rep 4\n",
      "\n",
      " hand stand push ups set 3\n",
      "hand stand push ups rep 1\n",
      "hand stand push ups rep 2\n",
      "hand stand push ups rep 3\n",
      "hand stand push ups rep 4\n",
      "\n",
      " hand stand push ups set 4\n",
      "hand stand push ups rep 1\n",
      "hand stand push ups rep 2\n",
      "hand stand push ups rep 3\n",
      "hand stand push ups rep 4\n",
      "\n",
      " hand stand push ups set 5\n",
      "hand stand push ups rep 1\n",
      "hand stand push ups rep 2\n",
      "hand stand push ups rep 3\n",
      "hand stand push ups rep 4\n",
      "\n",
      " hand stand push ups set 6\n",
      "hand stand push ups rep 1\n",
      "hand stand push ups rep 2\n",
      "hand stand push ups rep 3\n",
      "hand stand push ups rep 4\n",
      "\n",
      " hand stand push ups set 7\n",
      "hand stand push ups rep 1\n",
      "hand stand push ups rep 2\n",
      "hand stand push ups rep 3\n",
      "hand stand push ups rep 4\n",
      "\n",
      " hand stand push ups set 8\n",
      "hand stand push ups rep 1\n",
      "hand stand push ups rep 2\n",
      "hand stand push ups rep 3\n",
      "hand stand push ups rep 4\n",
      "\n",
      " hand stand push ups set 9\n",
      "hand stand push ups rep 1\n",
      "hand stand push ups rep 2\n",
      "hand stand push ups rep 3\n",
      "hand stand push ups rep 4\n"
     ]
    }
   ],
   "source": [
    "j = 1\n",
    "\n",
    "while j < 10:\n",
    "    print(\"\\n hand stand push ups set\", j)\n",
    "    \n",
    "    for i in range(5):\n",
    "        if i == 0:\n",
    "            continue\n",
    "        print(\"hand stand push ups rep\", i)\n",
    "        \n",
    "    j += 1"
   ]
  },
  {
   "cell_type": "markdown",
   "metadata": {},
   "source": []
  },
  {
   "cell_type": "markdown",
   "metadata": {},
   "source": [
    "##### The Range Function"
   ]
  },
  {
   "cell_type": "code",
   "execution_count": 24,
   "metadata": {},
   "outputs": [
    {
     "name": "stdout",
     "output_type": "stream",
     "text": [
      "0\n",
      "1\n",
      "2\n",
      "3\n",
      "4\n",
      "5\n",
      "6\n",
      "7\n",
      "8\n",
      "9\n",
      "\n",
      "\n",
      "1\n",
      "2\n",
      "3\n",
      "4\n",
      "5\n",
      "6\n",
      "7\n",
      "8\n",
      "9\n",
      "/n\n",
      "1\n",
      "3\n",
      "5\n",
      "7\n",
      "9\n"
     ]
    }
   ],
   "source": [
    "# range(start, stop, step) - stop is required and start defaults to 0 if none is given\n",
    "\n",
    "#               stop\n",
    "for num in range(10):\n",
    "    print(num)\n",
    "print(\"\\n\")\n",
    "#              start,stop\n",
    "for num in range (1,10):\n",
    "    print(num)\n",
    "print(\"/n\")\n",
    "#               start,stop,step\n",
    "for num in range(1,10,2):\n",
    "    print(num)"
   ]
  },
  {
   "cell_type": "markdown",
   "metadata": {},
   "source": [
    "### String Manipulation Exercise"
   ]
  },
  {
   "cell_type": "code",
   "execution_count": 28,
   "metadata": {},
   "outputs": [
    {
     "name": "stdout",
     "output_type": "stream",
     "text": [
      "Ryan\n",
      "Alex\n",
      "Alex2\n",
      "Will\n",
      "Will\n",
      "Will\n",
      "Will\n",
      "Will\n",
      "Will\n",
      "Will\n",
      "Will\n",
      "Will\n",
      "Will\n",
      "Will\n",
      "\n",
      "ame\n"
     ]
    }
   ],
   "source": [
    "# Looping through a list\n",
    "my_names = [\"Ryan\", \"Alex\", \"Alex2\", \"Will\"]\n",
    "for name in my_names:\n",
    "    print(name)\n",
    "\n",
    "names = ['    coNNor', 'max', ' EVan ', 'JORDAN']\n",
    "# HINT: You will need to use a for loop for iteration\n",
    "# Loop through the names list, remove white space and capitalize the first letter of each name. Print each new name.\n",
    "\n",
    "for num in range(10):\n",
    "    print (name)\n",
    "print(\"\\name\")\n",
    "    "
   ]
  },
  {
   "cell_type": "markdown",
   "metadata": {},
   "source": [
    "## Lists"
   ]
  },
  {
   "cell_type": "markdown",
   "metadata": {},
   "source": [
    "##### Declaring Lists"
   ]
  },
  {
   "cell_type": "code",
   "execution_count": 33,
   "metadata": {},
   "outputs": [
    {
     "name": "stdout",
     "output_type": "stream",
     "text": [
      "['    coNNor', 'max', ' EVan ', 'JORDAN']\n",
      "['Dog', 2, [1, 2, 3, 4], 'person']\n"
     ]
    }
   ],
   "source": [
    "our_list = []\n",
    "# empty list when the brakets are empty\n",
    "\n",
    "name = [\"Ryan\", \"Alex\", \"Justin\", \"Liz\", \"Alex\"]\n",
    "numbers = [1,2,3,4,5,6]\n",
    "things = [\"Dog\",2, [1,2,3,4],\"person\"]\n",
    "print(names)\n",
    "print(things)\n"
   ]
  },
  {
   "cell_type": "markdown",
   "metadata": {},
   "source": [
    "##### Indexing a List"
   ]
  },
  {
   "cell_type": "code",
   "execution_count": null,
   "metadata": {},
   "outputs": [],
   "source": [
    "# [start: stop: step] --> last item [-1]\n",
    "#          0        1         2      3       4        5   \n",
    "names = [\"Ryan\", \"Alex\", \"Justin\", \"Liz\", \"Alex\", \"Razvan\"]\n",
    "# single index\n",
    "print(names[4])\n",
    "print names[2])\n",
    "# regardless of the list legnth, -1 will always be the last index (position)\n",
    "print(names[-1])\n",
    "# list slicing\n",
    "#  print portion of the list starting at index 1 and going to the end of the list\n",
    "print(names[1])\n",
    "# print starting at the beggining and go to specified index\n",
    "print(names[:3])\n",
    "# stepping through the list by 2\n",
    "print(names[::2])\n",
    "# print stepping backwards through the list\n",
    "print(names[::-1])\n",
    "\n",
    "reversed_names = names[::"
   ]
  },
  {
   "cell_type": "markdown",
   "metadata": {},
   "source": [
    "### List Methods"
   ]
  },
  {
   "cell_type": "markdown",
   "metadata": {},
   "source": [
    "##### .append()"
   ]
  },
  {
   "cell_type": "code",
   "execution_count": 35,
   "metadata": {},
   "outputs": [
    {
     "name": "stdout",
     "output_type": "stream",
     "text": [
      "['Ryan', 'Alex', 'Justin', 'Liz', 'Alex', 'Razvan', 'will']\n",
      "['Ryan', 'Alex', 'Justin', 'Liz', 'Alex', 'Razvan', 'will', 'Mo']\n"
     ]
    }
   ],
   "source": [
    "#  List.append(thing you are appending)\n",
    "# append will always add to the back of the list\n",
    "names = [\"Ryan\", \"Alex\", \"Justin\", \"Liz\", \"Alex\", \"Razvan\"]\n",
    "\n",
    "names.append(\"will\")\n",
    "print(names)\n",
    "\n",
    "names.append(\"Mo\")\n",
    "print(names)"
   ]
  },
  {
   "cell_type": "markdown",
   "metadata": {},
   "source": [
    "##### .insert()"
   ]
  },
  {
   "cell_type": "code",
   "execution_count": 38,
   "metadata": {},
   "outputs": [
    {
     "name": "stdout",
     "output_type": "stream",
     "text": [
      "['Ryan', 'Morgan', 'Morgan', 'Alex', 'Justin', 'Liz', 'Alex', 'Razvan', 'will', 'Mo']\n",
      "['Ryan', 'Morgan', 'Morgan', 'JeiAvonni', 'Alex', 'Justin', 'Liz', 'Alex', 'Razvan', 'will', 'Mo']\n"
     ]
    }
   ],
   "source": [
    "#our_list.insert(index, value)\n",
    "\n",
    "names.insert(1, \"Morgan\")\n",
    "\n",
    "print(names)\n",
    "\n",
    "names.insert(3, \"JeiAvonni\")\n",
    "print(names)\n"
   ]
  },
  {
   "cell_type": "markdown",
   "metadata": {},
   "source": [
    "##### .pop()"
   ]
  },
  {
   "cell_type": "code",
   "execution_count": 41,
   "metadata": {},
   "outputs": [
    {
     "name": "stdout",
     "output_type": "stream",
     "text": [
      "['Ryan', 'Morgan', 'Morgan', 'JeiAvonni', 'Alex', 'Razvan', 'will', 'Mo']\n",
      "['Ryan', 'Morgan', 'Morgan', 'JeiAvonni', 'Alex', 'Razvan', 'Mo']\n",
      "will\n",
      "Mo\n"
     ]
    }
   ],
   "source": [
    "# list.pop(optional index to pop out)\n",
    "# default is the last value if no parameter is given\n",
    "# pop returns the element that was removed in case you want to assign it into a variable\n",
    "names.pop(5)\n",
    "print(names)\n",
    "\n",
    "popped_name = names.pop(6)\n",
    "print(names)\n",
    "print(popped_name)\n",
    "\n",
    "print(names.pop())\n",
    "\n"
   ]
  },
  {
   "cell_type": "markdown",
   "metadata": {},
   "source": [
    "##### .remove()"
   ]
  },
  {
   "cell_type": "code",
   "execution_count": 43,
   "metadata": {},
   "outputs": [
    {
     "name": "stdout",
     "output_type": "stream",
     "text": [
      "['Morgan', 'Morgan', 'JeiAvonni', 'Alex', 'Razvan']\n"
     ]
    },
    {
     "ename": "ValueError",
     "evalue": "list.remove(x): x not in list",
     "output_type": "error",
     "traceback": [
      "\u001b[1;31m---------------------------------------------------------------------------\u001b[0m",
      "\u001b[1;31mValueError\u001b[0m                                Traceback (most recent call last)",
      "Cell \u001b[1;32mIn[43], line 4\u001b[0m\n\u001b[0;32m      1\u001b[0m \u001b[38;5;66;03m#list.remove(thing to be removed)\u001b[39;00m\n\u001b[0;32m      2\u001b[0m \u001b[38;5;66;03m# value to be removed, not an index\u001b[39;00m\n\u001b[0;32m      3\u001b[0m \u001b[38;5;28mprint\u001b[39m(names)\n\u001b[1;32m----> 4\u001b[0m \u001b[43mnames\u001b[49m\u001b[38;5;241;43m.\u001b[39;49m\u001b[43mremove\u001b[49m\u001b[43m(\u001b[49m\u001b[38;5;124;43m\"\u001b[39;49m\u001b[38;5;124;43mRyan\u001b[39;49m\u001b[38;5;124;43m\"\u001b[39;49m\u001b[43m)\u001b[49m\n\u001b[0;32m      5\u001b[0m \u001b[38;5;28mprint\u001b[39m(names)\n",
      "\u001b[1;31mValueError\u001b[0m: list.remove(x): x not in list"
     ]
    }
   ],
   "source": [
    "#list.remove(thing to be removed)\n",
    "# value to be removed, not an index\n",
    "print(names)\n",
    "names.remove(\"Ryan\")\n",
    "print(names)\n"
   ]
  },
  {
   "cell_type": "markdown",
   "metadata": {},
   "source": [
    "### Working With Lists"
   ]
  },
  {
   "cell_type": "markdown",
   "metadata": {},
   "source": [
    "##### del()"
   ]
  },
  {
   "cell_type": "code",
   "execution_count": 52,
   "metadata": {},
   "outputs": [
    {
     "name": "stdout",
     "output_type": "stream",
     "text": [
      "['Morgan', 'JeiAvonni', 'Alex', 'Razvan']\n",
      "['Morgan', 'Alex', 'Razvan']\n",
      "['Morgan', 'Alex', 'Razvan']\n",
      "['Morgan']\n"
     ]
    }
   ],
   "source": [
    "# index to be removed, not value \n",
    "print(names)\n",
    "del names[1]\n",
    "print(names)\n",
    "\n",
    "print(names)\n",
    "del names[1:3]\n",
    "print(names)"
   ]
  },
  {
   "cell_type": "markdown",
   "metadata": {},
   "source": [
    "##### min()"
   ]
  },
  {
   "cell_type": "code",
   "execution_count": 56,
   "metadata": {},
   "outputs": [
    {
     "name": "stdout",
     "output_type": "stream",
     "text": [
      "1\n"
     ]
    }
   ],
   "source": [
    "# return the smallest item in a list\n",
    "numbers = [2,5,1,6,47,12]\n",
    "print(min(numbers))"
   ]
  },
  {
   "cell_type": "markdown",
   "metadata": {},
   "source": [
    "##### max()"
   ]
  },
  {
   "cell_type": "code",
   "execution_count": 54,
   "metadata": {},
   "outputs": [
    {
     "name": "stdout",
     "output_type": "stream",
     "text": [
      "47\n",
      "Ryan\n"
     ]
    }
   ],
   "source": [
    "# returns largest item in a list\n",
    "numbers = [2,5,1,6,47,12]\n",
    "print (max(numbers))\n",
    "names = [\"Ryan\", \"Alex\", \"Justin\", \"Liz\", \"Alex\", \"Razvan\"]\n",
    "print(max(names))"
   ]
  },
  {
   "cell_type": "markdown",
   "metadata": {},
   "source": [
    "##### sum()"
   ]
  },
  {
   "cell_type": "code",
   "execution_count": 55,
   "metadata": {},
   "outputs": [
    {
     "name": "stdout",
     "output_type": "stream",
     "text": [
      "73\n"
     ]
    }
   ],
   "source": [
    "# return the sum of all numbers in a list\n",
    "numbers = [2,5,1,6,47,12]\n",
    "print(sum(numbers))\n"
   ]
  },
  {
   "cell_type": "markdown",
   "metadata": {},
   "source": [
    "##### sorted()"
   ]
  },
  {
   "cell_type": "code",
   "execution_count": 59,
   "metadata": {},
   "outputs": [
    {
     "name": "stdout",
     "output_type": "stream",
     "text": [
      "73\n",
      "[1, 2, 5, 6, 12, 47]\n",
      "[2, 5, 1, 6, 47, 12]\n"
     ]
    }
   ],
   "source": [
    "#sorted will return a new sorted list, create a new variable\n",
    "numbers = [2,5,1,6,47,12]\n",
    "print(sum(numbers))\n",
    "sorted_nums = sorted (numbers)\n",
    "print(sorted_nums)\n",
    "print(numbers)"
   ]
  },
  {
   "cell_type": "markdown",
   "metadata": {},
   "source": [
    "##### .sort() <br>\n",
    "<p>Difference between sort and sorted, is that sorted doesn't change original list it returns a copy, while .sort changes the original list</p>"
   ]
  },
  {
   "cell_type": "code",
   "execution_count": 61,
   "metadata": {},
   "outputs": [
    {
     "name": "stdout",
     "output_type": "stream",
     "text": [
      "[1, 2, 5, 6, 12, 47]\n"
     ]
    }
   ],
   "source": [
    "#.sort() will sort the original list\n",
    "sorted_nums = numbers.sort()\n",
    "numbers.sort()\n",
    "# print(sorted_nums)\n",
    "print(numbers)"
   ]
  },
  {
   "cell_type": "markdown",
   "metadata": {},
   "source": [
    "##### Copying a List"
   ]
  },
  {
   "cell_type": "code",
   "execution_count": 62,
   "metadata": {},
   "outputs": [
    {
     "name": "stdout",
     "output_type": "stream",
     "text": [
      "['Ryan', 'Alex', 'Justin', 'Liz', 'Alex', 'Razvan']\n",
      "['Ryan', 'Alex', 'Justin', 'Liz', 'Alex', 'Razvan']\n"
     ]
    }
   ],
   "source": [
    "# [:] copies a list, doesn't alter original'\n",
    "names = [\"Ryan\", \"Alex\", \"Justin\", \"Liz\", \"Alex\", \"Razvan\"]\n",
    "print(names[:])\n",
    "names_copy = names[:]\n",
    "print(names_copy)"
   ]
  },
  {
   "cell_type": "markdown",
   "metadata": {},
   "source": [
    "##### Looping Through Lists"
   ]
  },
  {
   "cell_type": "code",
   "execution_count": 64,
   "metadata": {},
   "outputs": [
    {
     "ename": "SyntaxError",
     "evalue": "cannot assign to literal (3444664166.py, line 9)",
     "output_type": "error",
     "traceback": [
      "\u001b[1;36m  Cell \u001b[1;32mIn[64], line 9\u001b[1;36m\u001b[0m\n\u001b[1;33m    for 1 in range\u001b[0m\n\u001b[1;37m        ^\u001b[0m\n\u001b[1;31mSyntaxError\u001b[0m\u001b[1;31m:\u001b[0m cannot assign to literal\n"
     ]
    }
   ],
   "source": [
    "#Two ways to loop through a list. one is by index and the other is by value, using the \"in\" keyword\n",
    "names = [\"Han Solo\", \"Leia Organa\", \"Luke Skywalker\", \"Lando Calrissian\", \"Mace Windu\"]\n",
    "\n",
    "\n",
    "# looping by enumerate\n",
    "for i, n in enumerate(names):\n",
    "    print(i, n)\n",
    "\n",
    "# looping by index\n",
    "for 1 in range"
   ]
  },
  {
   "cell_type": "markdown",
   "metadata": {},
   "source": [
    "##### 'in' keyword"
   ]
  },
  {
   "cell_type": "code",
   "execution_count": 66,
   "metadata": {},
   "outputs": [
    {
     "name": "stdout",
     "output_type": "stream",
     "text": [
      "Yay liz\n"
     ]
    }
   ],
   "source": [
    "names = [\"Ryan\", \"Alex\", \"Justin\", \"Liz\", \"Alex\", \"Razvan\"]\n",
    "\n",
    "if \"Liz\" in names:\n",
    "    print(\"Yay liz\")\n",
    "else:\n",
    "    print(\"boo no liz\")\n",
    "\n"
   ]
  },
  {
   "cell_type": "markdown",
   "metadata": {},
   "source": [
    "##### 'not in' keyword"
   ]
  },
  {
   "cell_type": "code",
   "execution_count": 68,
   "metadata": {},
   "outputs": [
    {
     "name": "stdout",
     "output_type": "stream",
     "text": [
      "no Fredrick\n"
     ]
    }
   ],
   "source": [
    "names = [\"Ryan\", \"Alex\", \"Justin\", \"Liz\", \"Alex\", \"Razvan\"]\n",
    "if \"Fredrick\" not in names:\n",
    "    print(\"no Fredrick\")\n",
    "else:\n",
    "    print(\"Fredrick\")\n",
    "\n"
   ]
  },
  {
   "cell_type": "markdown",
   "metadata": {},
   "source": [
    "##### Checking an Empty List"
   ]
  },
  {
   "cell_type": "code",
   "execution_count": 76,
   "metadata": {},
   "outputs": [
    {
     "name": "stdout",
     "output_type": "stream",
     "text": [
      "that list is empty\n",
      "no\n",
      "this list doesnt have stuff\n"
     ]
    }
   ],
   "source": [
    "l_2 = []\n",
    "l_3 = None\n",
    "\n",
    "if l_2 == []:\n",
    "    print (\"that list is empty\")\n",
    "\n",
    "if l_2 == l_3:\n",
    "    print(\"yes\")\n",
    "else:\n",
    "    print(\"no\")\n",
    "\n",
    "if l_2:\n",
    "    print(\"this list has stuff\")\n",
    "else:\n",
    "    print(\"this list doesnt have stuff\")"
   ]
  },
  {
   "cell_type": "markdown",
   "metadata": {},
   "source": [
    "##### Removing Instances with a Loop"
   ]
  },
  {
   "cell_type": "code",
   "execution_count": 80,
   "metadata": {},
   "outputs": [
    {
     "name": "stdout",
     "output_type": "stream",
     "text": [
      "['Ryan', 'Justin', 'Liz', 'Alex', 'Razvan', 'Fredrick']\n",
      "['Ryan', 'Justin', 'Liz', 'Alex', 'Razvan', 'Fredrick']\n",
      "['Ryan', 'Justin', 'Liz', 'Razvan', 'Fredrick']\n"
     ]
    }
   ],
   "source": [
    "#while, remove\n",
    "names = [\"Ryan\", \"Justin\", \"Liz\", \"Alex\",\"Alex\", \"Razvan\", \"Fredrick\"]\n",
    "for name in names:\n",
    "    if name == \"Alex\":\n",
    "        names.remove(name)\n",
    "print(names)\n",
    "names = [\"Ryan\", \"Justin\", \"Liz\", \"Alex\",\"Alex\", \"Razvan\", \"Fredrick\"]\n",
    "# using while loop with remove\n",
    "while \"Alex\" in names:\n",
    "    names.remove(\"Alex\")\n",
    "    print(names)"
   ]
  },
  {
   "cell_type": "markdown",
   "metadata": {},
   "source": [
    "### List Exercise <br>\n",
    "<p>Remove all duplicates<br><b>Extra: Create a program that will remove any duplicates from a given list</b></p>"
   ]
  },
  {
   "cell_type": "code",
   "execution_count": null,
   "metadata": {},
   "outputs": [],
   "source": [
    "names = ['connor', 'connor', 'bob', 'connor', 'evan', 'max', 'evan', 2, 2, 2, 3, 3, 4, 'bob', 'kevin']\n",
    "# Hint 1: You will need an append\n",
    "# Hint 2: Using an empty list will make life easier\n",
    "\n",
    "\n"
   ]
  },
  {
   "cell_type": "markdown",
   "metadata": {},
   "source": [
    "### List Comprehensions <br>\n",
    "<p>Creating a quickly generated list to work with<br>*result*  = [*transform*    *iteration*         *filter*     ]</p>"
   ]
  },
  {
   "cell_type": "markdown",
   "metadata": {},
   "source": [
    "##### In a list comprehension we have a few pieces:\n",
    "1. The first is the counter/ variable - IN this the variable is x\n",
    "2. then we have a transform for the variable\n",
    "3. The finale part of a list comp is called the condition\n",
    "\n",
    "```python\n",
    "    [transform, iteration/variable, condition]\n",
    "```"
   ]
  },
  {
   "cell_type": "code",
   "execution_count": 90,
   "metadata": {
    "scrolled": true
   },
   "outputs": [
    {
     "name": "stdout",
     "output_type": "stream",
     "text": [
      "[4, 16, 36, 64, 100]\n"
     ]
    }
   ],
   "source": [
    "# square every even number\n",
    "nums = [2, 4, 5, 6, 7, 8, 9, 10]\n",
    "nums_squared = [x**2 for x in nums if x%2 == 0]\n",
    "\n",
    "squared_nums = []\n",
    "for x in nums:\n",
    "    if x%2 == 0:\n",
    "        squared_nums.append(x**2)\n",
    "print(squared_nums)\n"
   ]
  },
  {
   "cell_type": "markdown",
   "metadata": {},
   "source": [
    "There are a few benefits to using List comprehensions. The most obvious would be that we now have shorter code to work with instead of using 3+ lines of code in the for loop variant.\n",
    "\n",
    "Another is an added benefit to memory usage. Since the list's memory is allocated first before adding elements to it, we don't have to resize the list once we add elements to it.\n",
    "\n",
    "Lastly, list comprehensions are considered the \"pythonic\" way to write code by the PEP8 standards (Python Style Guide)"
   ]
  },
  {
   "cell_type": "markdown",
   "metadata": {},
   "source": [
    "### Tuples <br>\n",
    "<p><b>Defined as an immutable list</b></p><br>Seperated by commas using parenthesis"
   ]
  },
  {
   "cell_type": "code",
   "execution_count": 95,
   "metadata": {},
   "outputs": [
    {
     "ename": "SyntaxError",
     "evalue": "invalid syntax (2074616953.py, line 13)",
     "output_type": "error",
     "traceback": [
      "\u001b[1;36m  Cell \u001b[1;32mIn[95], line 13\u001b[1;36m\u001b[0m\n\u001b[1;33m    print(tup_1[i]):\u001b[0m\n\u001b[1;37m                   ^\u001b[0m\n\u001b[1;31mSyntaxError\u001b[0m\u001b[1;31m:\u001b[0m invalid syntax\n"
     ]
    }
   ],
   "source": [
    "tup_1 = (1, 2, 3) # one way to create a tuple, items seperated by commas in parathesis\n",
    "tup_2= 1, 2, 3 #another way just items seperated by commas\n",
    "print(tup_2)\n",
    "\n",
    "print(type(tup_1))\n",
    "\n",
    "print(\"tuple length\" , len(tup_2))\n",
    "\n",
    "for num in tup_2:\n",
    "    print(num)\n",
    "\n",
    "for i in range(len(tup_1)):\n",
    "    print(tup_1[i]):"
   ]
  },
  {
   "cell_type": "markdown",
   "metadata": {},
   "source": [
    "##### sorted()"
   ]
  },
  {
   "cell_type": "code",
   "execution_count": 96,
   "metadata": {},
   "outputs": [
    {
     "name": "stdout",
     "output_type": "stream",
     "text": [
      "[1, 5, 10, 20, 95, 123]\n",
      "[5, 12, 23, 76, 234, 654]\n",
      "(1, 5, 10, 20, 95, 123)\n",
      "(1, 5, 10, 20, 95, 123, 5, 12, 23, 76, 234, 654)\n"
     ]
    }
   ],
   "source": [
    "tup = (20,5,1,10,95,123)\n",
    "sorted_tup_list = sorted(tup)\n",
    "print(sorted_tup_list)\n",
    "\n",
    "some_list = [5,12,654,234,76,23]\n",
    "sorted_list = sorted(some_list)\n",
    "print(sorted_list)\n",
    "sorted_list = tuple(sorted_list)\n",
    "new_tup = tuple(sorted_tup_list)\n",
    "print(new_tup)\n",
    "\n",
    "#tuple concatentation\n",
    "new_new_tup = new_tup + sorted_list\n",
    "print(new_new_tup)"
   ]
  },
  {
   "cell_type": "markdown",
   "metadata": {},
   "source": [
    "##### Adding values to a Tuple"
   ]
  },
  {
   "cell_type": "code",
   "execution_count": 97,
   "metadata": {},
   "outputs": [
    {
     "name": "stdout",
     "output_type": "stream",
     "text": [
      "(20, 5, 1, 10, 95, 123)\n",
      "(20, 5, 1, 10, 95, 123, 6)\n"
     ]
    }
   ],
   "source": [
    "tup = (20, 5, 1, 10, 95, 123)\n",
    "print(tup)\n",
    "\n",
    "tup = tup + (6,)\n",
    "print(tup)"
   ]
  },
  {
   "cell_type": "markdown",
   "metadata": {},
   "source": [
    "# Exercises"
   ]
  },
  {
   "cell_type": "markdown",
   "metadata": {},
   "source": [
    "## Exercise 1 <br>\n",
    "<p>Using the given list, print out a filtered version of the list with only the numbers that are less than ten</b></i></p><br>\n"
   ]
  },
  {
   "cell_type": "code",
   "execution_count": null,
   "metadata": {},
   "outputs": [],
   "source": [
    "alist = [1,11,14,5,8,9]\n",
    "\n",
    "\n",
    "\n"
   ]
  },
  {
   "cell_type": "markdown",
   "metadata": {},
   "source": [
    "## Exercise 2 <br>\n",
    "<p>Merge and sort the two lists below<br>\n",
    "<b><i>Hint: You can use the .sort() method</i></b></p>"
   ]
  },
  {
   "cell_type": "code",
   "execution_count": 6,
   "metadata": {},
   "outputs": [
    {
     "name": "stdout",
     "output_type": "stream",
     "text": [
      "[1, 2, 3, 3, 4, 4, 5, 5, 6, 6, 7, 8, 10]\n"
     ]
    }
   ],
   "source": [
    "l_1 = [1,2,3,4,5,6]\n",
    "l_2 = [3,4,5,6,7,8,10]\n",
    "\n",
    "new_list = sorted(l_1 + l_2)\n",
    "\n",
    "print(new_list)\n",
    "\n",
    "\n",
    "\n"
   ]
  },
  {
   "cell_type": "markdown",
   "metadata": {},
   "source": [
    "## Exercise 3 <br>\n",
    "<p>Square every number from 1 to 15<br>\n"
   ]
  },
  {
   "cell_type": "code",
   "execution_count": 8,
   "metadata": {},
   "outputs": [
    {
     "name": "stdout",
     "output_type": "stream",
     "text": [
      "1\n",
      "4\n",
      "9\n",
      "16\n",
      "25\n",
      "36\n",
      "49\n",
      "64\n",
      "81\n",
      "100\n",
      "121\n",
      "144\n",
      "169\n",
      "196\n",
      "225\n"
     ]
    }
   ],
   "source": [
    "for num in range(1, 16):\n",
    "    print(num **2)"
   ]
  },
  {
   "cell_type": "markdown",
   "metadata": {},
   "source": [
    "## Exercise 4<br>\n",
    "<p>Using List Comprehension and the given list, print out a filtered list with \n",
    "only the names that start with the letter 'a'. \n",
    "The names in the outputted list should be title cased and have no whitespace.<br>\n",
    "<p>Hint: There is an empty string at the end of the list you will need to account for.\n"
   ]
  },
  {
   "cell_type": "code",
   "execution_count": 9,
   "metadata": {},
   "outputs": [
    {
     "name": "stdout",
     "output_type": "stream",
     "text": [
      "['Amy', 'Alex']\n"
     ]
    }
   ],
   "source": [
    "names_list = ['   amy', 'Briant', 'Ryan ', ' Alex', 'steve', '  ']\n",
    "#expected output = ['Amy', 'Alex']\n",
    "\n",
    "a_names = [name.strip().title() for name in names_list if name.strip() and name.lower().strip()[0] == 'a']\n",
    "\n",
    "\n",
    "print(a_names)"
   ]
  },
  {
   "cell_type": "markdown",
   "metadata": {},
   "source": [
    "## Exercise 5 <br>\n",
    "<p>Print all Prime numbers from 1 to 100<br>\n",
    "<p>Hint: A Prime # is any # that is ONLY divisible by 1 and itself. So think how you can iterate through the list of #s from 1 to 100 and check to see if its divisible by ANY # below it.\n",
    "<p>The For/Each might be very helpful for this question. ',', end='')"
   ]
  },
  {
   "cell_type": "code",
   "execution_count": 13,
   "metadata": {},
   "outputs": [
    {
     "name": "stdout",
     "output_type": "stream",
     "text": [
      " 2   3   5   7   11   13   17   19   23   29   31   37   41   43   47   53   59   61   67   71   73   79   83   89   97  "
     ]
    }
   ],
   "source": [
    "for Number in range (1, 101):\n",
    "    count = 0\n",
    "    for i in range(2, (Number//2 + 1)):\n",
    "        if(Number % i == 0):\n",
    "            count = count + 1\n",
    "            break\n",
    "\n",
    "    if (count == 0 and Number != 1):\n",
    "        print(\" %d\" %Number, end = '  ')"
   ]
  },
  {
   "cell_type": "code",
   "execution_count": null,
   "metadata": {},
   "outputs": [],
   "source": [
    "# I did scuba diving research on this one"
   ]
  }
 ],
 "metadata": {
  "kernelspec": {
   "display_name": "Python 3 (ipykernel)",
   "language": "python",
   "name": "python3"
  },
  "language_info": {
   "codemirror_mode": {
    "name": "ipython",
    "version": 3
   },
   "file_extension": ".py",
   "mimetype": "text/x-python",
   "name": "python",
   "nbconvert_exporter": "python",
   "pygments_lexer": "ipython3",
   "version": "3.12.1"
  }
 },
 "nbformat": 4,
 "nbformat_minor": 4
}
